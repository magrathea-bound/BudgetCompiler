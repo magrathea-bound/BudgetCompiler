{
 "cells": [
  {
   "cell_type": "markdown",
   "id": "0c6a4e5d-27aa-44f1-91a1-222836771f1a",
   "metadata": {},
   "source": [
    "# Budget Compiler"
   ]
  },
  {
   "cell_type": "code",
   "execution_count": 1,
   "id": "5ca29866-a51f-4b38-9262-38d85121f759",
   "metadata": {
    "tags": []
   },
   "outputs": [],
   "source": [
    "import os\n",
    "import pandas as pd"
   ]
  },
  {
   "cell_type": "markdown",
   "id": "589f6198-1afc-4047-9ec1-bf1ebcf8dbd0",
   "metadata": {
    "tags": []
   },
   "source": [
    "## Specify Key arguments"
   ]
  },
  {
   "cell_type": "code",
   "execution_count": 2,
   "id": "c43c4e8c-fb9b-4da1-b8bb-6d913d0f2e77",
   "metadata": {
    "tags": []
   },
   "outputs": [],
   "source": [
    "\"\"\"\n",
    "rawDataDir: csv files containing transactions (my bank only allows me to pull 90 days worth at a time =/)\n",
    "key: The key to apply categories to transactions\n",
    "dataFolder: Folder where data is stored\n",
    "data: The transaction data\n",
    "merchantHeader:  The header in the transaction dataframe for the merchant.  This renames the header in the merchant key for a cleaner merge\n",
    "\"\"\"\n",
    "rawDataDir = \"data/transactions\"\n",
    "key = \"merchantKey.csv\"\n",
    "dataFolder = \"data\"\n",
    "data = \"data.csv\"\n",
    "merchantHeader = \"Description\""
   ]
  },
  {
   "cell_type": "markdown",
   "id": "d724189d-5278-4331-99aa-cb5c4492b05b",
   "metadata": {
    "tags": []
   },
   "source": [
    "## Combine all data"
   ]
  },
  {
   "cell_type": "code",
   "execution_count": 3,
   "id": "9b5e1e31-d929-48ea-aeb8-a619d33e70a4",
   "metadata": {
    "tags": []
   },
   "outputs": [],
   "source": [
    "#Combine Extraneous Data\n",
    "df = pd.read_csv(os.path.join(dataFolder, data))\n",
    "\n",
    "for csv in os.listdir(rawDataDir):\n",
    "    tempDf = pd.read_csv(os.path.join(rawDataDir, csv))\n",
    "    df = pd.concat([df, tempDf])\n"
   ]
  },
  {
   "cell_type": "code",
   "execution_count": 4,
   "id": "d62372d8-ba85-4fcb-8666-d37acdb48113",
   "metadata": {
    "tags": []
   },
   "outputs": [],
   "source": [
    "df.to_csv(os.path.join(dataFolder, data), index=False)"
   ]
  },
  {
   "cell_type": "markdown",
   "id": "332836e9-d5ff-4dc7-a1b8-f2fafd555067",
   "metadata": {},
   "source": [
    "# Merge Key with data\n",
    "---"
   ]
  },
  {
   "cell_type": "markdown",
   "id": "d19e2fa2-41de-4cbe-89df-1966be4cd36b",
   "metadata": {},
   "source": [
    "## Import Data"
   ]
  },
  {
   "cell_type": "code",
   "execution_count": 5,
   "id": "7a8b3198-df65-4434-8519-64320e6ea871",
   "metadata": {
    "tags": []
   },
   "outputs": [],
   "source": [
    "merchantKey = pd.read_csv(os.path.join(dataFolder, key))\n",
    "trans = pd.read_csv(os.path.join(dataFolder, data))"
   ]
  },
  {
   "cell_type": "code",
   "execution_count": 6,
   "id": "547cc81b-7ca5-48cf-8a7a-da743ff87f23",
   "metadata": {
    "tags": []
   },
   "outputs": [
    {
     "data": {
      "text/html": [
       "<div>\n",
       "<style scoped>\n",
       "    .dataframe tbody tr th:only-of-type {\n",
       "        vertical-align: middle;\n",
       "    }\n",
       "\n",
       "    .dataframe tbody tr th {\n",
       "        vertical-align: top;\n",
       "    }\n",
       "\n",
       "    .dataframe thead th {\n",
       "        text-align: right;\n",
       "    }\n",
       "</style>\n",
       "<table border=\"1\" class=\"dataframe\">\n",
       "  <thead>\n",
       "    <tr style=\"text-align: right;\">\n",
       "      <th></th>\n",
       "      <th>Transaction Date</th>\n",
       "      <th>Posted Date</th>\n",
       "      <th>Description</th>\n",
       "      <th>Debit</th>\n",
       "      <th>Credit</th>\n",
       "      <th>Long Description</th>\n",
       "      <th>category</th>\n",
       "    </tr>\n",
       "  </thead>\n",
       "  <tbody>\n",
       "    <tr>\n",
       "      <th>0</th>\n",
       "      <td>1/2/2023</td>\n",
       "      <td>1/2/2023</td>\n",
       "      <td>Alta Ski Area F</td>\n",
       "      <td>-8.50</td>\n",
       "      <td>NaN</td>\n",
       "      <td>ALTA SKI AREA -F &amp; B</td>\n",
       "      <td>NaN</td>\n",
       "    </tr>\n",
       "    <tr>\n",
       "      <th>1</th>\n",
       "      <td>1/2/2023</td>\n",
       "      <td>1/2/2023</td>\n",
       "      <td>Smith's</td>\n",
       "      <td>-18.90</td>\n",
       "      <td>NaN</td>\n",
       "      <td>SMITHS FOOD #4047</td>\n",
       "      <td>NaN</td>\n",
       "    </tr>\n",
       "    <tr>\n",
       "      <th>2</th>\n",
       "      <td>1/4/2023</td>\n",
       "      <td>1/4/2023</td>\n",
       "      <td>Payment</td>\n",
       "      <td>NaN</td>\n",
       "      <td>280.0</td>\n",
       "      <td>PAYMENT - THANK YOU</td>\n",
       "      <td>NaN</td>\n",
       "    </tr>\n",
       "    <tr>\n",
       "      <th>3</th>\n",
       "      <td>1/4/2023</td>\n",
       "      <td>1/4/2023</td>\n",
       "      <td>Cafe Rio</td>\n",
       "      <td>-25.12</td>\n",
       "      <td>NaN</td>\n",
       "      <td>CAFE RIO 0019 SANDY</td>\n",
       "      <td>NaN</td>\n",
       "    </tr>\n",
       "    <tr>\n",
       "      <th>4</th>\n",
       "      <td>1/4/2023</td>\n",
       "      <td>1/4/2023</td>\n",
       "      <td>Deseret Book</td>\n",
       "      <td>NaN</td>\n",
       "      <td>9.2</td>\n",
       "      <td>Deseret Book - 51450</td>\n",
       "      <td>NaN</td>\n",
       "    </tr>\n",
       "  </tbody>\n",
       "</table>\n",
       "</div>"
      ],
      "text/plain": [
       "  Transaction Date Posted Date      Description  Debit  Credit  \\\n",
       "0         1/2/2023    1/2/2023  Alta Ski Area F  -8.50     NaN   \n",
       "1         1/2/2023    1/2/2023          Smith's -18.90     NaN   \n",
       "2         1/4/2023    1/4/2023          Payment    NaN   280.0   \n",
       "3         1/4/2023    1/4/2023         Cafe Rio -25.12     NaN   \n",
       "4         1/4/2023    1/4/2023     Deseret Book    NaN     9.2   \n",
       "\n",
       "       Long Description  category  \n",
       "0  ALTA SKI AREA -F & B       NaN  \n",
       "1     SMITHS FOOD #4047       NaN  \n",
       "2   PAYMENT - THANK YOU       NaN  \n",
       "3   CAFE RIO 0019 SANDY       NaN  \n",
       "4  Deseret Book - 51450       NaN  "
      ]
     },
     "execution_count": 6,
     "metadata": {},
     "output_type": "execute_result"
    }
   ],
   "source": [
    "trans.drop(columns = ['Account','No.']).head()"
   ]
  },
  {
   "cell_type": "code",
   "execution_count": 7,
   "id": "3b259db7-0ac4-4fab-bb0c-0e4ecc957f2a",
   "metadata": {},
   "outputs": [],
   "source": [
    "merchantKey = merchantKey.rename(columns = {'merchant':merchantHeader})\n",
    "trans['category'] = trans.set_index(merchantHeader).category.fillna(merchantKey.set_index(merchantHeader).category).reset_index().category"
   ]
  },
  {
   "cell_type": "code",
   "execution_count": 8,
   "id": "3038d4ba-c3da-4387-9b56-0fd56fc4dd52",
   "metadata": {
    "tags": []
   },
   "outputs": [],
   "source": [
    "trans.to_csv(os.path.join(dataFolder, data), index=False)"
   ]
  }
 ],
 "metadata": {
  "kernelspec": {
   "display_name": "Python 3 (ipykernel)",
   "language": "python",
   "name": "python3"
  },
  "language_info": {
   "codemirror_mode": {
    "name": "ipython",
    "version": 3
   },
   "file_extension": ".py",
   "mimetype": "text/x-python",
   "name": "python",
   "nbconvert_exporter": "python",
   "pygments_lexer": "ipython3",
   "version": "3.11.0"
  }
 },
 "nbformat": 4,
 "nbformat_minor": 5
}
